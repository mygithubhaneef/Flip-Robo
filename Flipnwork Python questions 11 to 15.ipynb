{
 "cells": [
  {
   "cell_type": "markdown",
   "metadata": {},
   "source": [
    "# Python program to find the factorial of a number. "
   ]
  },
  {
   "cell_type": "code",
   "execution_count": 7,
   "metadata": {},
   "outputs": [
    {
     "name": "stdout",
     "output_type": "stream",
     "text": [
      "Enter the number5\n",
      "The factorial of  5 is 120\n"
     ]
    }
   ],
   "source": [
    "fact = 1\n",
    "num =int (input(\"Enter the number\"))\n",
    "org =num\n",
    "while num > 0:\n",
    "    fact =fact *num\n",
    "    num =num - 1\n",
    "print (\"The factorial of \", org,\"is\",fact)"
   ]
  },
  {
   "cell_type": "markdown",
   "metadata": {},
   "source": [
    "# Python program to find whether a number is prime or composite. "
   ]
  },
  {
   "cell_type": "code",
   "execution_count": 15,
   "metadata": {},
   "outputs": [
    {
     "name": "stdout",
     "output_type": "stream",
     "text": [
      "Enter The Number: 0\n",
      "Number Is Neither Prime Nor Composite\n"
     ]
    }
   ],
   "source": [
    "num=int(input(\"Enter The Number: \"))\n",
    "count =0\n",
    "i=1\n",
    "while i<=num:\n",
    "\n",
    "    if num%i ==0:\n",
    "        count =count+1\n",
    "    i=i+1\n",
    "if count ==2:\n",
    "    print(\"The Number Is Prime\")\n",
    "elif count > 2:\n",
    "    print(\"The Number is Composite\")\n",
    "else:\n",
    "    print(\"Number Is Neither Prime Nor Composite\")"
   ]
  },
  {
   "cell_type": "markdown",
   "metadata": {},
   "source": [
    "# Python program to check whether a given string is palindrome or not"
   ]
  },
  {
   "cell_type": "code",
   "execution_count": 21,
   "metadata": {},
   "outputs": [
    {
     "name": "stdout",
     "output_type": "stream",
     "text": [
      "Enter a string:welcome\n",
      "Not Palindrome\n"
     ]
    }
   ],
   "source": [
    "k=input(\"Enter a string:\")\n",
    "revstr=(s[::-1])\n",
    "if revstr==k:\n",
    "    print(\"Palindrome\")\n",
    "else:\n",
    "    print(\"Not Palindrome\")\n"
   ]
  },
  {
   "cell_type": "markdown",
   "metadata": {},
   "source": [
    "# Python program to get the third side of right-angled triangle from two given sides. "
   ]
  },
  {
   "cell_type": "code",
   "execution_count": 2,
   "metadata": {},
   "outputs": [
    {
     "name": "stdout",
     "output_type": "stream",
     "text": [
      "Please enter length of triangle side20\n",
      "Please enter length of triangle side10\n",
      "The length of your third side is: 7.745967\n"
     ]
    }
   ],
   "source": [
    "from math import sqrt\n",
    "\n",
    "def getLength():\n",
    "    length = float (input (\"Please enter length of triangle side\"))\n",
    "    return length\n",
    "\n",
    "side1 = getLength()\n",
    "side2 = getLength()\n",
    "\n",
    "def calcTriangle (side1,side2):\n",
    "    side3=sqrt(side1 + side1 + side2 + side2)\n",
    "    print(\"The length of your third side is: %2f\" % side3)\n",
    "    \n",
    "calcTriangle(side1, side2)"
   ]
  },
  {
   "cell_type": "markdown",
   "metadata": {},
   "source": [
    "# Python program to print the frequency of each of the characters present in a given string. "
   ]
  },
  {
   "cell_type": "markdown",
   "metadata": {},
   "source": [
    "# in Operator"
   ]
  },
  {
   "cell_type": "code",
   "execution_count": 24,
   "metadata": {},
   "outputs": [
    {
     "name": "stdout",
     "output_type": "stream",
     "text": [
      "True\n"
     ]
    }
   ],
   "source": [
    "d1={'Jan':1, 'Apr':4,'Aug':8}\n",
    "print('Jan' in d1)"
   ]
  },
  {
   "cell_type": "code",
   "execution_count": 25,
   "metadata": {},
   "outputs": [
    {
     "name": "stdout",
     "output_type": "stream",
     "text": [
      "False\n"
     ]
    }
   ],
   "source": [
    "print('Feb' in d1)"
   ]
  },
  {
   "cell_type": "code",
   "execution_count": 26,
   "metadata": {},
   "outputs": [
    {
     "name": "stdout",
     "output_type": "stream",
     "text": [
      "Enter the stringabcabcbacddef\n",
      "{'a': 3, 'b': 3, 'c': 3, 'd': 2, 'e': 1, 'f': 1}\n"
     ]
    }
   ],
   "source": [
    "str1= input(\"Enter the string\")\n",
    "d1=dict()\n",
    "for c in str1:\n",
    "    if c in d1:\n",
    "        d1[c] =d1[c]+1\n",
    "    else:\n",
    "        d1[c] =1\n",
    "print(d1)"
   ]
  },
  {
   "cell_type": "markdown",
   "metadata": {},
   "source": [
    "# get()"
   ]
  },
  {
   "cell_type": "code",
   "execution_count": 29,
   "metadata": {},
   "outputs": [
    {
     "name": "stdout",
     "output_type": "stream",
     "text": [
      "1\n"
     ]
    }
   ],
   "source": [
    "d1={'Jan':1, 'Apr':4,'Aug':8}\n",
    "print(d1.get('Jan',0))"
   ]
  },
  {
   "cell_type": "code",
   "execution_count": 30,
   "metadata": {},
   "outputs": [
    {
     "name": "stdout",
     "output_type": "stream",
     "text": [
      "0\n"
     ]
    }
   ],
   "source": [
    "print(d1.get('Feb',0))"
   ]
  },
  {
   "cell_type": "code",
   "execution_count": 31,
   "metadata": {},
   "outputs": [
    {
     "name": "stdout",
     "output_type": "stream",
     "text": [
      "Enter the stringabcdabcdabceffg\n",
      "{'a': 3, 'b': 3, 'c': 3, 'd': 2, 'e': 1, 'f': 2, 'g': 1}\n"
     ]
    }
   ],
   "source": [
    "str1= input(\"Enter the string\")\n",
    "d1=dict()\n",
    "for c in str1:\n",
    "    d1[c]=d1.get(c,0) + 1\n",
    "print(d1)"
   ]
  },
  {
   "cell_type": "code",
   "execution_count": null,
   "metadata": {},
   "outputs": [],
   "source": []
  }
 ],
 "metadata": {
  "kernelspec": {
   "display_name": "Python 3",
   "language": "python",
   "name": "python3"
  },
  "language_info": {
   "codemirror_mode": {
    "name": "ipython",
    "version": 3
   },
   "file_extension": ".py",
   "mimetype": "text/x-python",
   "name": "python",
   "nbconvert_exporter": "python",
   "pygments_lexer": "ipython3",
   "version": "3.8.3"
  }
 },
 "nbformat": 4,
 "nbformat_minor": 4
}
